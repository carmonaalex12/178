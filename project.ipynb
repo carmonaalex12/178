{
 "cells": [
  {
   "cell_type": "code",
   "execution_count": 2,
   "metadata": {},
   "outputs": [],
   "source": [
    "from __future__ import division # For python 2.*\n",
    "\n",
    "import numpy as np\n",
    "import matplotlib.pyplot as plt\n",
    "import mltools as ml"
   ]
  },
  {
   "cell_type": "code",
   "execution_count": 3,
   "metadata": {},
   "outputs": [],
   "source": [
    "X = np.genfromtxt('data/X_train.txt', delimiter=None)\n",
    "Y = np.genfromtxt('data/Y_train.txt', delimiter=None)\n",
    "X,Y = ml.shuffleData(X,Y)"
   ]
  },
  {
   "cell_type": "code",
   "execution_count": 4,
   "metadata": {},
   "outputs": [],
   "source": [
    "class BaggedTree(ml.base.classifier):\n",
    "    def __init__(self, learners):\n",
    "        \"\"\"Constructs a BaggedTree class with a set of learners. \"\"\"\n",
    "        self.learners = learners\n",
    "    \n",
    "    def predictSoft(self, X):\n",
    "        \"\"\"Predicts the probabilities with each bagged learner and average over the results. \"\"\"\n",
    "        n_bags = len(self.learners)\n",
    "        preds = [self.learners[l].predictSoft(X) for l in range(n_bags)]\n",
    "        return np.mean(preds, axis=0)"
   ]
  },
  {
   "cell_type": "code",
   "execution_count": 19,
   "metadata": {},
   "outputs": [
    {
     "name": "stdout",
     "output_type": "stream",
     "text": [
      "AUC after 25 learners = 0.694709343514\n"
     ]
    }
   ],
   "source": [
    "# not split data, using random forest\n",
    "Xtr = X\n",
    "Ytr = Y\n",
    "ensemble = [0]*25\n",
    "Xte = np.genfromtxt(\"data/X_test.txt\",delimiter=None)\n",
    "Ypred = np.zeros((np.size(Xte,0),1))\n",
    "for i in range(25):\n",
    "    Xi,Yi = ml.bootstrapData(Xtr,Ytr)\n",
    "    ensemble[i] = ml.dtree.treeClassify(Xi,Yi,maxDepth=8\n",
    "            ,minLeaf=256,nFeatures=60,minParent=512)\n",
    "    Ypred = Ypred + ensemble[i].predictSoft(Xte)\n",
    "Ypred = Ypred/25\n",
    "print(\"AUC after 25 learners = \" + str(ensemble[24].auc(Xi,Yi)))\n",
    "np.savetxt('Ypred_.txt',\n",
    "np.vstack( (np.arange(len(Ypred)) , Ypred[:,1]) ).T,\n",
    "'%d, %.2f',header='ID,Prob1',comments='',delimiter=',');\n"
   ]
  },
  {
   "cell_type": "code",
   "execution_count": 21,
   "metadata": {},
   "outputs": [
    {
     "name": "stdout",
     "output_type": "stream",
     "text": [
      "AUC after 20 learners = 0.695381852331\n"
     ]
    }
   ],
   "source": [
    "# not split data, using random forest\n",
    "Xtr = X\n",
    "Ytr = Y\n",
    "ensemble = [0]*20\n",
    "Xte = np.genfromtxt(\"data/X_test.txt\",delimiter=None)\n",
    "Ypred = np.zeros((np.size(Xte,0),1))\n",
    "for i in range(20):\n",
    "    Xi,Yi = ml.bootstrapData(Xtr,Ytr)\n",
    "    ensemble[i] = ml.dtree.treeClassify(Xi,Yi,maxDepth=8\n",
    "            ,minLeaf=256,nFeatures=60,minParent=512)\n",
    "    Ypred = Ypred + ensemble[i].predictSoft(Xte)\n",
    "Ypred = Ypred/20\n",
    "print(\"AUC after 20 learners = \" + str(ensemble[19].auc(Xi,Yi)))\n",
    "# np.savetxt('Ypred_.txt',\n",
    "# np.vstack( (np.arange(len(Ypred)) , Ypred[:,1]) ).T,\n",
    "# '%d, %.2f',header='ID,Prob1',comments='',delimiter=',');\n"
   ]
  },
  {
   "cell_type": "code",
   "execution_count": 5,
   "metadata": {},
   "outputs": [
    {
     "name": "stdout",
     "output_type": "stream",
     "text": [
      "AUC after 15 learners = 0.693575158225\n"
     ]
    }
   ],
   "source": [
    "# not split data, using random forest\n",
    "Xtr = X\n",
    "Ytr = Y\n",
    "ensemble = [0]*15\n",
    "Xte = np.genfromtxt(\"data/X_test.txt\",delimiter=None)\n",
    "Ypred = np.zeros((np.size(Xte,0),1))\n",
    "for i in range(15):\n",
    "    Xi,Yi = ml.bootstrapData(Xtr,Ytr)\n",
    "    ensemble[i] = ml.dtree.treeClassify(Xi,Yi,maxDepth=8\n",
    "            ,minLeaf=256,nFeatures=60,minParent=512)\n",
    "    Ypred = Ypred + ensemble[i].predictSoft(Xte)\n",
    "Ypred = Ypred/15\n",
    "print(\"AUC after 15 learners = \" + str(ensemble[14].auc(Xi,Yi)))\n",
    "np.savetxt('Ysubmit.txt',\n",
    "np.vstack( (np.arange(len(Ypred)) , Ypred[:,1]) ).T,\n",
    "'%d, %.2f',header='ID,Prob1',comments='',delimiter=',');\n"
   ]
  },
  {
   "cell_type": "code",
   "execution_count": 18,
   "metadata": {},
   "outputs": [
    {
     "name": "stdout",
     "output_type": "stream",
     "text": [
      "AUC after 25 learners = 0.692043573365\n"
     ]
    }
   ],
   "source": [
    "# spit data to 0.8, using radom forest\n",
    "[Xtr,Xva,Ytr,Yva] = ml.splitData(X,Y,0.80)\n",
    "\n",
    "ensemble1 = [0]*25\n",
    "Xte = np.genfromtxt(\"data/X_test.txt\",delimiter=None)\n",
    "Ypred1 = np.zeros((np.size(Xte,0),1))\n",
    "for i in range(25):\n",
    "    Xi,Yi = ml.bootstrapData(Xtr,Ytr)\n",
    "    ensemble1[i] = ml.dtree.treeClassify(Xi,Yi,maxDepth=8\n",
    "            ,minLeaf=256,nFeatures=60,minParent=512)\n",
    "    Ypred1 = Ypred1 + ensemble1[i].predictSoft(Xte)\n",
    "Ypred1 = Ypred1/25\n",
    "print(\"AUC after 25 learners = \" + str(ensemble1[24].auc(Xi,Yi)))\n",
    "# np.savetxt('Ypred1.txt',\n",
    "# np.vstack( (np.arange(len(Ypred1)) , Ypred1[:,1]) ).T,\n",
    "# '%d, %.2f',header='ID,Prob1',comments='',delimiter=',');\n"
   ]
  },
  {
   "cell_type": "code",
   "execution_count": null,
   "metadata": {},
   "outputs": [],
   "source": [
    "# use Ada Boost\n",
    "nBoost = 25\n",
    "for i in range(nBoost):\n",
    "    learner[i] = ml.MyClassifier( X,Y, weights=wts ) # train a weighted classifier\n",
    "    Yhat = learner[i].predict(X)\n",
    "    e = wts.dot( Y != Yhat ) # compute weighted error rate\n",
    "    alpha[i] = 0.5 * np.log( (1-e)/e )\n",
    "    wts *= np.exp( -alpha[i] * Y * Yhat ) # update weights\n",
    "    wts /= wts.sum() # and normalize them"
   ]
  },
  {
   "cell_type": "code",
   "execution_count": null,
   "metadata": {},
   "outputs": [],
   "source": [
    "# Final classifier:\n",
    "predict = np.zeros( (mTest,) )\n",
    "for i in range(nBoost):\n",
    "    predict += alpha[i] * learner[i].predict(Xtest)# compute contribution of each\n",
    "predict = np.sign(predict) # and convert to +1 / -1 decision\n",
    "print(\"AUC after 25 learners = \" + str(predict[24].auc(Xi,Yi)))"
   ]
  }
 ],
 "metadata": {
  "kernelspec": {
   "display_name": "Python 3",
   "language": "python",
   "name": "python3"
  },
  "language_info": {
   "codemirror_mode": {
    "name": "ipython",
    "version": 3
   },
   "file_extension": ".py",
   "mimetype": "text/x-python",
   "name": "python",
   "nbconvert_exporter": "python",
   "pygments_lexer": "ipython3",
   "version": "3.6.3"
  }
 },
 "nbformat": 4,
 "nbformat_minor": 2
}
