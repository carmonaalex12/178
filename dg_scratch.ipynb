{
 "cells": [
  {
   "cell_type": "code",
   "execution_count": 148,
   "metadata": {
    "collapsed": true
   },
   "outputs": [],
   "source": [
    "from __future__ import division\n",
    "\n",
    "import numpy as np\n",
    "import matplotlib.pyplot as plt\n",
    "import mltools as ml\n",
    "import sklearn as sk\n",
    "\n",
    "np.random.seed(0)\n",
    "%matplotlib inline"
   ]
  },
  {
   "cell_type": "code",
   "execution_count": 149,
   "metadata": {},
   "outputs": [],
   "source": [
    "# Data Loading\n",
    "X = np.genfromtxt('X_train.txt', delimiter=None)\n",
    "Y = np.genfromtxt('Y_train.txt', delimiter=None)\n",
    "\n",
    "# The test data\n",
    "Xte = np.genfromtxt('X_test.txt', delimiter=None)\n",
    "X, Y = ml.shuffleData(X, Y)"
   ]
  },
  {
   "cell_type": "code",
   "execution_count": 150,
   "metadata": {},
   "outputs": [
    {
     "name": "stdout",
     "output_type": "stream",
     "text": [
      "(4000, 14)\n"
     ]
    }
   ],
   "source": [
    "X, Y = X[:4000], Y[:4000]\n",
    "\n",
    "print X.shape\n",
    "\n",
    "Xtr, Xva, Ytr, Yva = ml.splitData(X, Y)"
   ]
  },
  {
   "cell_type": "code",
   "execution_count": 151,
   "metadata": {
    "scrolled": true
   },
   "outputs": [],
   "source": [
    "from sklearn.preprocessing import MinMaxScaler\n",
    "\n",
    "scaler = MinMaxScaler()\n",
    "\n",
    "scaler.fit(Xtr)\n",
    "Xtr = scaler.transform(Xtr)\n",
    "\n",
    "scaler.fit(Xva)\n",
    "Xva = scaler.transform(Xva)\n",
    "\n",
    "clf = svm.SVC(kernel = 'rbf', gamma = 0.00001, C = 100, probability=True)\n",
    "\n",
    "clf.fit(Xtr,Ytr)\n",
    "\n",
    "pred = clf.predict(Xva)\n",
    "probs = clf.predict_proba(Xva)\n",
    "probs = probs[:, 1]"
   ]
  },
  {
   "cell_type": "code",
   "execution_count": 152,
   "metadata": {},
   "outputs": [
    {
     "name": "stdout",
     "output_type": "stream",
     "text": [
      "Prob: 0.432782235212 True: 0.0\n",
      "Prob: 0.552317454839 True: 0.0\n",
      "Prob: 0.492593799463 True: 0.0\n",
      "Prob: 0.411398772294 True: 0.0\n",
      "Prob: 0.552423100729 True: 1.0\n",
      "\n",
      "ROC:  0.652325541126\n"
     ]
    }
   ],
   "source": [
    "for i in range(5):\n",
    "    print \"Prob:\", probs[i], \"True:\", Yva[i]\n",
    "print \"\\nROC: \", roc_auc_score(Yva, probs)"
   ]
  },
  {
   "cell_type": "code",
   "execution_count": null,
   "metadata": {},
   "outputs": [],
   "source": []
  }
 ],
 "metadata": {
  "kernelspec": {
   "display_name": "Python 2",
   "language": "python",
   "name": "python2"
  },
  "language_info": {
   "codemirror_mode": {
    "name": "ipython",
    "version": 2
   },
   "file_extension": ".py",
   "mimetype": "text/x-python",
   "name": "python",
   "nbconvert_exporter": "python",
   "pygments_lexer": "ipython2",
   "version": "2.7.14"
  }
 },
 "nbformat": 4,
 "nbformat_minor": 2
}
